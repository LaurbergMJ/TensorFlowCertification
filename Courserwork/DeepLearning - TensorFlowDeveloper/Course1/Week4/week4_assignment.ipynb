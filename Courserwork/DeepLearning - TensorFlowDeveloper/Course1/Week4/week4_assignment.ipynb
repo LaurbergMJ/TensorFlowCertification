{
 "cells": [
  {
   "cell_type": "markdown",
   "metadata": {},
   "source": [
    "## Week 4: Handling Complex Images - Happy or Sad Dataset\n",
    "\n",
    "In this assignment we will be using the happy or sad dataset, which contains 80 images of emoji-like faces, 40 happy and 40 sad\n",
    "\n",
    "The assignment: create a convolutional neural network that trains to 100% accuracy in these images, which cancels training upon hitting training accuracy of > .999!"
   ]
  },
  {
   "cell_type": "code",
   "execution_count": 1,
   "metadata": {},
   "outputs": [],
   "source": [
    "import matplotlib.pyplot as plt \n",
    "import tensorflow as tf \n",
    "import numpy as np\n",
    "import os "
   ]
  },
  {
   "cell_type": "markdown",
   "metadata": {},
   "source": [
    "Begin by taking a look at some images of the dataset:"
   ]
  },
  {
   "cell_type": "code",
   "execution_count": null,
   "metadata": {},
   "outputs": [],
   "source": [
    "from tensorflow.keras.preprocessing.image import load_img\n",
    "\n",
    "happy_dir = \"./data/happy/\"\n",
    "sad_dir = \"./data/sad/\"\n",
    "\n",
    "print(\"sample happy image:\")\n",
    "plt.imshow(load_img(f'{os.path.join(happy_dir, os.listdir(happy_dir)[0])}'))\n",
    "plt.show()\n",
    "\n",
    "print(\"\\nSample sad image:\")\n",
    "plt.imshow(load_img(f\"{os.path.join(sad_dir, os.listdir(sad_dir)[0])}\"))\n",
    "plt.show()\n"
   ]
  },
  {
   "cell_type": "markdown",
   "metadata": {},
   "source": [
    "It is cool to be able to see examples of the images to better understand the problem-space we are dealing with.\n",
    "\n",
    "However there is still some relevant information that is missing such as the resolution of the image and the maximum pixel value (important for normalizing these values). For this we can use Keras:"
   ]
  },
  {
   "cell_type": "code",
   "execution_count": null,
   "metadata": {},
   "outputs": [],
   "source": [
    "from tensorflow.keras.preprocessing.image import img_to_array\n",
    "\n",
    "# Load the first example of a happy face \n",
    "sample_image = load_img(f\"{os.path.join(happy_dir, os.listdir(happy_dir)[0])}\")\n",
    "\n",
    "# Convert the image into its numpy array representation \n",
    "sample_array = img_to_array(sample_image)\n",
    "\n",
    "print(f'Each image has shape: {sample_array.shape}')\n",
    "\n",
    "print(f'The maximum pixel value used is: {np.max(sample_array)}')\n"
   ]
  },
  {
   "cell_type": "markdown",
   "metadata": {},
   "source": [
    "Looks like images have a resolution of 150x150. This is very important because this will be the input size of the first layer in the network \n",
    "\n",
    "The last dimension refers to each one of the 3 RGB channels that are used to represent colored images\n",
    "\n",
    "We want to also include the callback function for stopping training when a desired level of accuracy is reached! "
   ]
  },
  {
   "cell_type": "code",
   "execution_count": 3,
   "metadata": {},
   "outputs": [],
   "source": [
    "class myCallback(tf.keras.callbacks.Callback):\n",
    "    def on_epoch_end(self, epoch, logs={}):\n",
    "        if logs.get('accuracy') is not None and logs.get('accuracy') > 0.999:\n",
    "            print(\"\\nReached 99.9% accuracy so cancelling training!\")\n",
    "            self.model.stop_training = True "
   ]
  },
  {
   "cell_type": "markdown",
   "metadata": {},
   "source": [
    "A quick note on callbacks: \n",
    "\n",
    "So far we have only used the _on_epoch_end_ callback but there are many more. For example the _EarlyStopping_ callback which allows us to save the best weights for our model. \n",
    "\n",
    "Keras provides great support for preprocessing image data. A lot can be accomplished by using the _ImageDataGenerator_ class. "
   ]
  },
  {
   "cell_type": "code",
   "execution_count": null,
   "metadata": {},
   "outputs": [],
   "source": [
    "from tensorflow.keras.preprocessing.image import ImageDataGenerator\n",
    "\n",
    "# GRADED FUNCTION: image_generator\n",
    "def image_generator():\n",
    "    ### START CODE HERE\n",
    "\n",
    "    # Instantiate the ImageDataGenerator class\n",
    "    # Remember to set the rescale argument\n",
    "    \n",
    "    # Specify the method to load images from a directory and pass in the appropriate arguments:\n",
    "    # - directory: should be a relative path to the directory containing the data\n",
    "    # - target_size: set this equal to the resolution of each image \n",
    "    # - batch_size: number of images the generator yields when asked for a next batch. Set this to 10\n",
    "    # - class_mode: How the labels are represented. Should be one of \"binary\", \"categorical\" or \"sparse\"\n",
    "    #               Pick one that better suits here given that the labels are going to be 1D binary labels\n",
    "    \n",
    "    \n",
    "    ### END CODE HERE\n",
    "\n",
    "    return train_generator "
   ]
  },
  {
   "cell_type": "code",
   "execution_count": null,
   "metadata": {},
   "outputs": [],
   "source": [
    "# Save the train generator in a variable\n",
    "\n",
    "gen = image_generator()"
   ]
  },
  {
   "cell_type": "code",
   "execution_count": 5,
   "metadata": {},
   "outputs": [],
   "source": [
    "from tensorflow.keras import optimizers, losses \n",
    "from tensorflow.keras.optimizers import RMSprop\n",
    "\n",
    "# GRADED FUNCTION: train_happy_sad_model\n",
    "\n",
    "    # Instantiate the callback\n",
    "    \n",
    "    ### START CODE HERE\n",
    "\n",
    "    # Define the model\n",
    "    # Some helpful tips:\n",
    "\n",
    "    # - A good first layer would be Conv2D layer with an input shape that matches that of every\n",
    "    #  image in the training set (including the color dimension)\n",
    "\n",
    "    # - The model will work best with 3 convolutional layers \n",
    "\n",
    "    # - There should be a Flatten layer in between convolutional and dense layers \n",
    "\n",
    "    # - The final layer should be a Dense layer with the number of units and activation \n",
    "    #   function that supports binary classification\n",
    "\n",
    "    \n",
    "    # compile the model \n",
    "    # select a loss function compatible with the last layer of out network \n",
    "    \n",
    "    # Train the model\n",
    "    # The model should achieve the desired accuracy in less than 15 epochs \n",
    "    # We can hardcode up to 20 epochs in the function, but the callback should trigger before 15 \n",
    "    \n",
    "    ### END CODE HERE\n",
    "    return history"
   ]
  },
  {
   "cell_type": "code",
   "execution_count": null,
   "metadata": {},
   "outputs": [],
   "source": [
    "hist = train_happy_sad_model(gen)"
   ]
  },
  {
   "cell_type": "code",
   "execution_count": null,
   "metadata": {},
   "outputs": [],
   "source": [
    "print(f\"The model reached the desired accuracy after {len(hist.epoch)} epochs\")"
   ]
  }
 ],
 "metadata": {
  "kernelspec": {
   "display_name": "Python 3.10.0 ('.venv')",
   "language": "python",
   "name": "python3"
  },
  "language_info": {
   "codemirror_mode": {
    "name": "ipython",
    "version": 3
   },
   "file_extension": ".py",
   "mimetype": "text/x-python",
   "name": "python",
   "nbconvert_exporter": "python",
   "pygments_lexer": "ipython3",
   "version": "3.10.0"
  },
  "orig_nbformat": 4,
  "vscode": {
   "interpreter": {
    "hash": "2590b067655b4efbefdfc89bcbe63220f2bed4c70a5b65fec08921869d5cbc69"
   }
  }
 },
 "nbformat": 4,
 "nbformat_minor": 2
}

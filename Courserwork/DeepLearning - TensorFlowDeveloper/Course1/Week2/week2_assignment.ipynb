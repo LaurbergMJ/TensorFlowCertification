{
 "cells": [
  {
   "cell_type": "markdown",
   "metadata": {},
   "source": [
    "## Week 2: Implementing Callbacks in TensorFlow using the MNIST Dataset \n",
    "\n",
    "In this exercise we are using the MNIST Dataset of handsigns of digits 0 through 9\n",
    "\n",
    "We are asked to write an MNIST classifier that trains to 99% accuracy or above and does it without a fixed number of epochs - i.e. we should stop training once we have reached that level of accuracy\n",
    "\n",
    "Some notes: \n",
    "\n",
    "1. Given the architecture of the net, it should succeed in less than 10 epochs\n",
    "2. When it reaches 99% or greater it should print out the string \"Reached 99% accuracy so cancelling training!\" and stop training\n",
    "3. If we add any additional variables, make sure we use the same names as the ones used in the class. This is important for the function signatures of the callbacks"
   ]
  },
  {
   "cell_type": "code",
   "execution_count": 1,
   "metadata": {},
   "outputs": [],
   "source": [
    "import os \n",
    "import tensorflow as tf \n",
    "from tensorflow import keras "
   ]
  },
  {
   "cell_type": "markdown",
   "metadata": {},
   "source": [
    "We begin by loading the data. A few things to notice:\n",
    "\n",
    "* The file mnist.npz is needed\n",
    "* load_data returns the train and test sets in the form of the tuples (x_train, y_train), (x_test, y_test) - but in this exercise we will only be needing the train set"
   ]
  },
  {
   "cell_type": "code",
   "execution_count": 12,
   "metadata": {},
   "outputs": [],
   "source": [
    "# Load the data \n",
    "path = os.getcwd()\n",
    "data = os.path.join(path, \"mnist.npz\")\n",
    "\n",
    "#discard test set \n",
    "(x_train, y_train), _ = tf.keras.datasets.mnist.load_data(path=data)\n",
    "\n",
    "#Normalize pixel values \n",
    "x_train = x_train/ 255.0\n"
   ]
  },
  {
   "cell_type": "code",
   "execution_count": 13,
   "metadata": {},
   "outputs": [],
   "source": [
    "# GRADED CLASS: myCallback \n",
    "### START CODE HERE \n",
    "\n",
    "# Remember to inherit from the correct class\n",
    "\n",
    "    # Define the correct function signature for on_epoch_end\n",
    "\n",
    "            # Stop training once the above condition is met\n",
    "             \n",
    "\n",
    "# END CODE HERE"
   ]
  },
  {
   "cell_type": "markdown",
   "metadata": {},
   "source": [
    "Now that we have defined our callback it is time to complete the train_mnist function"
   ]
  },
  {
   "cell_type": "code",
   "execution_count": 18,
   "metadata": {},
   "outputs": [],
   "source": [
    "# GRADED FUNCTION: train_mnist \n",
    "\n",
    "def train_mnist(x_train, y_train):\n",
    "    \n",
    "    ### START CODE HERE\n",
    "\n",
    "    # Instantiate the callback class\n",
    "    \n",
    "\n",
    "    # Define the model, it should have 3 layers:\n",
    "    # - A Flatten layer that receives inputs with the same shape as the images\n",
    "    # - A Dense layer with 512 units and ReLU activation function\n",
    "    # - A Dense layer with 10 units and softmax activation function \n",
    "    \n",
    "\n",
    "    #Compile the model \n",
    "    \n",
    "    # Fit the model for 10 epochs adding the callbacks and save the training history \n",
    "    \n",
    "    "
   ]
  },
  {
   "cell_type": "code",
   "execution_count": 19,
   "metadata": {},
   "outputs": [
    {
     "name": "stdout",
     "output_type": "stream",
     "text": [
      "Epoch 1/10\n",
      "1875/1875 [==============================] - 7s 3ms/step - loss: 0.2031 - accuracy: 0.9404\n",
      "Epoch 2/10\n",
      "1875/1875 [==============================] - 6s 3ms/step - loss: 0.0798 - accuracy: 0.9758\n",
      "Epoch 3/10\n",
      "1875/1875 [==============================] - 6s 3ms/step - loss: 0.0528 - accuracy: 0.9834\n",
      "Epoch 4/10\n",
      "1875/1875 [==============================] - 7s 3ms/step - loss: 0.0378 - accuracy: 0.9879\n",
      "Epoch 5/10\n",
      "1868/1875 [============================>.] - ETA: 0s - loss: 0.0268 - accuracy: 0.9919n\\Reached 99% accuracy so cancelling training!\n",
      "1875/1875 [==============================] - 6s 3ms/step - loss: 0.0267 - accuracy: 0.9919\n"
     ]
    }
   ],
   "source": [
    "hist = train_mnist(x_train, y_train)\n"
   ]
  },
  {
   "cell_type": "code",
   "execution_count": null,
   "metadata": {},
   "outputs": [],
   "source": []
  }
 ],
 "metadata": {
  "kernelspec": {
   "display_name": "Python 3.10.0 ('.venv')",
   "language": "python",
   "name": "python3"
  },
  "language_info": {
   "codemirror_mode": {
    "name": "ipython",
    "version": 3
   },
   "file_extension": ".py",
   "mimetype": "text/x-python",
   "name": "python",
   "nbconvert_exporter": "python",
   "pygments_lexer": "ipython3",
   "version": "3.10.0"
  },
  "orig_nbformat": 4,
  "vscode": {
   "interpreter": {
    "hash": "2590b067655b4efbefdfc89bcbe63220f2bed4c70a5b65fec08921869d5cbc69"
   }
  }
 },
 "nbformat": 4,
 "nbformat_minor": 2
}
